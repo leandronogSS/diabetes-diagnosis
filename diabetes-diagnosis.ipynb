{
 "cells": [
  {
   "cell_type": "markdown",
   "metadata": {},
   "source": [
    "### Using machine learning to create a model to diagnosis diabetes\n"
   ]
  },
  {
   "cell_type": "code",
   "execution_count": 1,
   "metadata": {
    "_cell_guid": "b1076dfc-b9ad-4769-8c92-a6c4dae69d19",
    "_uuid": "8f2839f25d086af736a60e9eeb907d3b93b6e0e5",
    "execution": {
     "iopub.execute_input": "2021-10-02T18:31:03.493633Z",
     "iopub.status.busy": "2021-10-02T18:31:03.493393Z",
     "iopub.status.idle": "2021-10-02T18:31:03.507692Z",
     "shell.execute_reply": "2021-10-02T18:31:03.506892Z",
     "shell.execute_reply.started": "2021-10-02T18:31:03.493547Z"
    }
   },
   "outputs": [],
   "source": [
    "import numpy as np\n",
    "import pandas as pd"
   ]
  },
  {
   "cell_type": "markdown",
   "metadata": {},
   "source": [
    "#### Load dataset"
   ]
  },
  {
   "cell_type": "code",
   "execution_count": 2,
   "metadata": {
    "execution": {
     "iopub.execute_input": "2021-10-02T18:31:03.509499Z",
     "iopub.status.busy": "2021-10-02T18:31:03.509253Z",
     "iopub.status.idle": "2021-10-02T18:31:03.518422Z",
     "shell.execute_reply": "2021-10-02T18:31:03.517439Z",
     "shell.execute_reply.started": "2021-10-02T18:31:03.509474Z"
    }
   },
   "outputs": [],
   "source": [
    "df = pd.read_csv(\"./diabetes.csv\")"
   ]
  },
  {
   "cell_type": "markdown",
   "metadata": {},
   "source": [
    "#### The dataset has 9 columns, the Outcome is the target column"
   ]
  },
  {
   "cell_type": "code",
   "execution_count": 3,
   "metadata": {
    "execution": {
     "iopub.execute_input": "2021-10-02T18:31:03.520234Z",
     "iopub.status.busy": "2021-10-02T18:31:03.519999Z",
     "iopub.status.idle": "2021-10-02T18:31:03.539662Z",
     "shell.execute_reply": "2021-10-02T18:31:03.538500Z",
     "shell.execute_reply.started": "2021-10-02T18:31:03.520201Z"
    }
   },
   "outputs": [
    {
     "data": {
      "text/html": [
       "<div>\n",
       "<style scoped>\n",
       "    .dataframe tbody tr th:only-of-type {\n",
       "        vertical-align: middle;\n",
       "    }\n",
       "\n",
       "    .dataframe tbody tr th {\n",
       "        vertical-align: top;\n",
       "    }\n",
       "\n",
       "    .dataframe thead th {\n",
       "        text-align: right;\n",
       "    }\n",
       "</style>\n",
       "<table border=\"1\" class=\"dataframe\">\n",
       "  <thead>\n",
       "    <tr style=\"text-align: right;\">\n",
       "      <th></th>\n",
       "      <th>Pregnancies</th>\n",
       "      <th>Glucose</th>\n",
       "      <th>BloodPressure</th>\n",
       "      <th>SkinThickness</th>\n",
       "      <th>Insulin</th>\n",
       "      <th>BMI</th>\n",
       "      <th>DiabetesPedigreeFunction</th>\n",
       "      <th>Age</th>\n",
       "      <th>Outcome</th>\n",
       "    </tr>\n",
       "  </thead>\n",
       "  <tbody>\n",
       "    <tr>\n",
       "      <th>0</th>\n",
       "      <td>2</td>\n",
       "      <td>138</td>\n",
       "      <td>62</td>\n",
       "      <td>35</td>\n",
       "      <td>0</td>\n",
       "      <td>33.6</td>\n",
       "      <td>0.127</td>\n",
       "      <td>47</td>\n",
       "      <td>1</td>\n",
       "    </tr>\n",
       "    <tr>\n",
       "      <th>1</th>\n",
       "      <td>0</td>\n",
       "      <td>84</td>\n",
       "      <td>82</td>\n",
       "      <td>31</td>\n",
       "      <td>125</td>\n",
       "      <td>38.2</td>\n",
       "      <td>0.233</td>\n",
       "      <td>23</td>\n",
       "      <td>0</td>\n",
       "    </tr>\n",
       "    <tr>\n",
       "      <th>2</th>\n",
       "      <td>0</td>\n",
       "      <td>145</td>\n",
       "      <td>0</td>\n",
       "      <td>0</td>\n",
       "      <td>0</td>\n",
       "      <td>44.2</td>\n",
       "      <td>0.630</td>\n",
       "      <td>31</td>\n",
       "      <td>1</td>\n",
       "    </tr>\n",
       "    <tr>\n",
       "      <th>3</th>\n",
       "      <td>0</td>\n",
       "      <td>135</td>\n",
       "      <td>68</td>\n",
       "      <td>42</td>\n",
       "      <td>250</td>\n",
       "      <td>42.3</td>\n",
       "      <td>0.365</td>\n",
       "      <td>24</td>\n",
       "      <td>1</td>\n",
       "    </tr>\n",
       "    <tr>\n",
       "      <th>4</th>\n",
       "      <td>1</td>\n",
       "      <td>139</td>\n",
       "      <td>62</td>\n",
       "      <td>41</td>\n",
       "      <td>480</td>\n",
       "      <td>40.7</td>\n",
       "      <td>0.536</td>\n",
       "      <td>21</td>\n",
       "      <td>0</td>\n",
       "    </tr>\n",
       "  </tbody>\n",
       "</table>\n",
       "</div>"
      ],
      "text/plain": [
       "   Pregnancies  Glucose  BloodPressure  SkinThickness  Insulin   BMI  \\\n",
       "0            2      138             62             35        0  33.6   \n",
       "1            0       84             82             31      125  38.2   \n",
       "2            0      145              0              0        0  44.2   \n",
       "3            0      135             68             42      250  42.3   \n",
       "4            1      139             62             41      480  40.7   \n",
       "\n",
       "   DiabetesPedigreeFunction  Age  Outcome  \n",
       "0                     0.127   47        1  \n",
       "1                     0.233   23        0  \n",
       "2                     0.630   31        1  \n",
       "3                     0.365   24        1  \n",
       "4                     0.536   21        0  "
      ]
     },
     "execution_count": 3,
     "metadata": {},
     "output_type": "execute_result"
    }
   ],
   "source": [
    "df.head()"
   ]
  },
  {
   "cell_type": "markdown",
   "metadata": {},
   "source": [
    "First, we need to check if the dataset has some Nan values and fill it with the data according with the column.\n",
    "\n",
    "We can see below that there isn't columns with Nan Values"
   ]
  },
  {
   "cell_type": "code",
   "execution_count": 4,
   "metadata": {
    "execution": {
     "iopub.execute_input": "2021-10-02T18:31:03.541774Z",
     "iopub.status.busy": "2021-10-02T18:31:03.541540Z",
     "iopub.status.idle": "2021-10-02T18:31:03.554439Z",
     "shell.execute_reply": "2021-10-02T18:31:03.553825Z",
     "shell.execute_reply.started": "2021-10-02T18:31:03.541749Z"
    }
   },
   "outputs": [
    {
     "name": "stdout",
     "output_type": "stream",
     "text": [
      "<class 'pandas.core.frame.DataFrame'>\n",
      "RangeIndex: 2000 entries, 0 to 1999\n",
      "Data columns (total 9 columns):\n",
      " #   Column                    Non-Null Count  Dtype  \n",
      "---  ------                    --------------  -----  \n",
      " 0   Pregnancies               2000 non-null   int64  \n",
      " 1   Glucose                   2000 non-null   int64  \n",
      " 2   BloodPressure             2000 non-null   int64  \n",
      " 3   SkinThickness             2000 non-null   int64  \n",
      " 4   Insulin                   2000 non-null   int64  \n",
      " 5   BMI                       2000 non-null   float64\n",
      " 6   DiabetesPedigreeFunction  2000 non-null   float64\n",
      " 7   Age                       2000 non-null   int64  \n",
      " 8   Outcome                   2000 non-null   int64  \n",
      "dtypes: float64(2), int64(7)\n",
      "memory usage: 140.8 KB\n"
     ]
    }
   ],
   "source": [
    "df.info()"
   ]
  },
  {
   "cell_type": "markdown",
   "metadata": {},
   "source": [
    "All columns are numeric, so we'll need only to normalize the values"
   ]
  },
  {
   "cell_type": "code",
   "execution_count": 5,
   "metadata": {
    "execution": {
     "iopub.execute_input": "2021-10-02T18:31:03.555929Z",
     "iopub.status.busy": "2021-10-02T18:31:03.555394Z",
     "iopub.status.idle": "2021-10-02T18:31:03.586763Z",
     "shell.execute_reply": "2021-10-02T18:31:03.586113Z",
     "shell.execute_reply.started": "2021-10-02T18:31:03.555899Z"
    }
   },
   "outputs": [
    {
     "data": {
      "text/html": [
       "<div>\n",
       "<style scoped>\n",
       "    .dataframe tbody tr th:only-of-type {\n",
       "        vertical-align: middle;\n",
       "    }\n",
       "\n",
       "    .dataframe tbody tr th {\n",
       "        vertical-align: top;\n",
       "    }\n",
       "\n",
       "    .dataframe thead th {\n",
       "        text-align: right;\n",
       "    }\n",
       "</style>\n",
       "<table border=\"1\" class=\"dataframe\">\n",
       "  <thead>\n",
       "    <tr style=\"text-align: right;\">\n",
       "      <th></th>\n",
       "      <th>Pregnancies</th>\n",
       "      <th>Glucose</th>\n",
       "      <th>BloodPressure</th>\n",
       "      <th>SkinThickness</th>\n",
       "      <th>Insulin</th>\n",
       "      <th>BMI</th>\n",
       "      <th>DiabetesPedigreeFunction</th>\n",
       "      <th>Age</th>\n",
       "      <th>Outcome</th>\n",
       "    </tr>\n",
       "  </thead>\n",
       "  <tbody>\n",
       "    <tr>\n",
       "      <th>count</th>\n",
       "      <td>2000.000000</td>\n",
       "      <td>2000.000000</td>\n",
       "      <td>2000.000000</td>\n",
       "      <td>2000.000000</td>\n",
       "      <td>2000.000000</td>\n",
       "      <td>2000.000000</td>\n",
       "      <td>2000.000000</td>\n",
       "      <td>2000.000000</td>\n",
       "      <td>2000.000000</td>\n",
       "    </tr>\n",
       "    <tr>\n",
       "      <th>mean</th>\n",
       "      <td>3.703500</td>\n",
       "      <td>121.182500</td>\n",
       "      <td>69.145500</td>\n",
       "      <td>20.935000</td>\n",
       "      <td>80.254000</td>\n",
       "      <td>32.193000</td>\n",
       "      <td>0.470930</td>\n",
       "      <td>33.090500</td>\n",
       "      <td>0.342000</td>\n",
       "    </tr>\n",
       "    <tr>\n",
       "      <th>std</th>\n",
       "      <td>3.306063</td>\n",
       "      <td>32.068636</td>\n",
       "      <td>19.188315</td>\n",
       "      <td>16.103243</td>\n",
       "      <td>111.180534</td>\n",
       "      <td>8.149901</td>\n",
       "      <td>0.323553</td>\n",
       "      <td>11.786423</td>\n",
       "      <td>0.474498</td>\n",
       "    </tr>\n",
       "    <tr>\n",
       "      <th>min</th>\n",
       "      <td>0.000000</td>\n",
       "      <td>0.000000</td>\n",
       "      <td>0.000000</td>\n",
       "      <td>0.000000</td>\n",
       "      <td>0.000000</td>\n",
       "      <td>0.000000</td>\n",
       "      <td>0.078000</td>\n",
       "      <td>21.000000</td>\n",
       "      <td>0.000000</td>\n",
       "    </tr>\n",
       "    <tr>\n",
       "      <th>25%</th>\n",
       "      <td>1.000000</td>\n",
       "      <td>99.000000</td>\n",
       "      <td>63.500000</td>\n",
       "      <td>0.000000</td>\n",
       "      <td>0.000000</td>\n",
       "      <td>27.375000</td>\n",
       "      <td>0.244000</td>\n",
       "      <td>24.000000</td>\n",
       "      <td>0.000000</td>\n",
       "    </tr>\n",
       "    <tr>\n",
       "      <th>50%</th>\n",
       "      <td>3.000000</td>\n",
       "      <td>117.000000</td>\n",
       "      <td>72.000000</td>\n",
       "      <td>23.000000</td>\n",
       "      <td>40.000000</td>\n",
       "      <td>32.300000</td>\n",
       "      <td>0.376000</td>\n",
       "      <td>29.000000</td>\n",
       "      <td>0.000000</td>\n",
       "    </tr>\n",
       "    <tr>\n",
       "      <th>75%</th>\n",
       "      <td>6.000000</td>\n",
       "      <td>141.000000</td>\n",
       "      <td>80.000000</td>\n",
       "      <td>32.000000</td>\n",
       "      <td>130.000000</td>\n",
       "      <td>36.800000</td>\n",
       "      <td>0.624000</td>\n",
       "      <td>40.000000</td>\n",
       "      <td>1.000000</td>\n",
       "    </tr>\n",
       "    <tr>\n",
       "      <th>max</th>\n",
       "      <td>17.000000</td>\n",
       "      <td>199.000000</td>\n",
       "      <td>122.000000</td>\n",
       "      <td>110.000000</td>\n",
       "      <td>744.000000</td>\n",
       "      <td>80.600000</td>\n",
       "      <td>2.420000</td>\n",
       "      <td>81.000000</td>\n",
       "      <td>1.000000</td>\n",
       "    </tr>\n",
       "  </tbody>\n",
       "</table>\n",
       "</div>"
      ],
      "text/plain": [
       "       Pregnancies      Glucose  BloodPressure  SkinThickness      Insulin  \\\n",
       "count  2000.000000  2000.000000    2000.000000    2000.000000  2000.000000   \n",
       "mean      3.703500   121.182500      69.145500      20.935000    80.254000   \n",
       "std       3.306063    32.068636      19.188315      16.103243   111.180534   \n",
       "min       0.000000     0.000000       0.000000       0.000000     0.000000   \n",
       "25%       1.000000    99.000000      63.500000       0.000000     0.000000   \n",
       "50%       3.000000   117.000000      72.000000      23.000000    40.000000   \n",
       "75%       6.000000   141.000000      80.000000      32.000000   130.000000   \n",
       "max      17.000000   199.000000     122.000000     110.000000   744.000000   \n",
       "\n",
       "               BMI  DiabetesPedigreeFunction          Age      Outcome  \n",
       "count  2000.000000               2000.000000  2000.000000  2000.000000  \n",
       "mean     32.193000                  0.470930    33.090500     0.342000  \n",
       "std       8.149901                  0.323553    11.786423     0.474498  \n",
       "min       0.000000                  0.078000    21.000000     0.000000  \n",
       "25%      27.375000                  0.244000    24.000000     0.000000  \n",
       "50%      32.300000                  0.376000    29.000000     0.000000  \n",
       "75%      36.800000                  0.624000    40.000000     1.000000  \n",
       "max      80.600000                  2.420000    81.000000     1.000000  "
      ]
     },
     "execution_count": 5,
     "metadata": {},
     "output_type": "execute_result"
    }
   ],
   "source": [
    "df.describe()"
   ]
  },
  {
   "cell_type": "markdown",
   "metadata": {},
   "source": [
    "Then we'll need to separate the dataset between train dataset and test dataset"
   ]
  },
  {
   "cell_type": "code",
   "execution_count": 6,
   "metadata": {
    "execution": {
     "iopub.execute_input": "2021-10-02T18:31:03.588402Z",
     "iopub.status.busy": "2021-10-02T18:31:03.587976Z",
     "iopub.status.idle": "2021-10-02T18:31:03.885462Z",
     "shell.execute_reply": "2021-10-02T18:31:03.884877Z",
     "shell.execute_reply.started": "2021-10-02T18:31:03.588369Z"
    }
   },
   "outputs": [],
   "source": [
    "from sklearn.model_selection import train_test_split\n",
    "X_train, X_test, y_train, y_test = train_test_split(df.drop(columns=[\"Outcome\"]), df[\"Outcome\"], test_size=0.3, random_state=42)"
   ]
  },
  {
   "cell_type": "markdown",
   "metadata": {},
   "source": [
    "And normalize the TRAIN dataset"
   ]
  },
  {
   "cell_type": "code",
   "execution_count": 7,
   "metadata": {
    "execution": {
     "iopub.execute_input": "2021-10-02T18:31:03.887508Z",
     "iopub.status.busy": "2021-10-02T18:31:03.886565Z",
     "iopub.status.idle": "2021-10-02T18:31:03.896573Z",
     "shell.execute_reply": "2021-10-02T18:31:03.895618Z",
     "shell.execute_reply.started": "2021-10-02T18:31:03.887471Z"
    }
   },
   "outputs": [],
   "source": [
    "from sklearn.preprocessing import MinMaxScaler\n",
    "scaler = MinMaxScaler()\n",
    "X_train_norm = pd.DataFrame(scaler.fit_transform(X_train))"
   ]
  },
  {
   "cell_type": "code",
   "execution_count": 8,
   "metadata": {
    "execution": {
     "iopub.execute_input": "2021-10-02T18:31:03.898263Z",
     "iopub.status.busy": "2021-10-02T18:31:03.897935Z",
     "iopub.status.idle": "2021-10-02T18:31:03.916218Z",
     "shell.execute_reply": "2021-10-02T18:31:03.915428Z",
     "shell.execute_reply.started": "2021-10-02T18:31:03.898225Z"
    }
   },
   "outputs": [
    {
     "data": {
      "text/html": [
       "<div>\n",
       "<style scoped>\n",
       "    .dataframe tbody tr th:only-of-type {\n",
       "        vertical-align: middle;\n",
       "    }\n",
       "\n",
       "    .dataframe tbody tr th {\n",
       "        vertical-align: top;\n",
       "    }\n",
       "\n",
       "    .dataframe thead th {\n",
       "        text-align: right;\n",
       "    }\n",
       "</style>\n",
       "<table border=\"1\" class=\"dataframe\">\n",
       "  <thead>\n",
       "    <tr style=\"text-align: right;\">\n",
       "      <th></th>\n",
       "      <th>0</th>\n",
       "      <th>1</th>\n",
       "      <th>2</th>\n",
       "      <th>3</th>\n",
       "      <th>4</th>\n",
       "      <th>5</th>\n",
       "      <th>6</th>\n",
       "      <th>7</th>\n",
       "    </tr>\n",
       "  </thead>\n",
       "  <tbody>\n",
       "    <tr>\n",
       "      <th>0</th>\n",
       "      <td>0.352941</td>\n",
       "      <td>0.623116</td>\n",
       "      <td>0.590164</td>\n",
       "      <td>0.000000</td>\n",
       "      <td>0.000000</td>\n",
       "      <td>0.342432</td>\n",
       "      <td>0.123826</td>\n",
       "      <td>0.133333</td>\n",
       "    </tr>\n",
       "    <tr>\n",
       "      <th>1</th>\n",
       "      <td>0.058824</td>\n",
       "      <td>0.597990</td>\n",
       "      <td>0.360656</td>\n",
       "      <td>0.427273</td>\n",
       "      <td>0.084677</td>\n",
       "      <td>0.440447</td>\n",
       "      <td>0.086251</td>\n",
       "      <td>0.066667</td>\n",
       "    </tr>\n",
       "    <tr>\n",
       "      <th>2</th>\n",
       "      <td>0.470588</td>\n",
       "      <td>0.552764</td>\n",
       "      <td>0.622951</td>\n",
       "      <td>0.000000</td>\n",
       "      <td>0.000000</td>\n",
       "      <td>0.344913</td>\n",
       "      <td>0.067891</td>\n",
       "      <td>0.616667</td>\n",
       "    </tr>\n",
       "    <tr>\n",
       "      <th>3</th>\n",
       "      <td>0.000000</td>\n",
       "      <td>0.643216</td>\n",
       "      <td>0.557377</td>\n",
       "      <td>0.172727</td>\n",
       "      <td>0.241935</td>\n",
       "      <td>0.378412</td>\n",
       "      <td>0.560632</td>\n",
       "      <td>0.066667</td>\n",
       "    </tr>\n",
       "    <tr>\n",
       "      <th>4</th>\n",
       "      <td>0.000000</td>\n",
       "      <td>0.542714</td>\n",
       "      <td>0.557377</td>\n",
       "      <td>0.181818</td>\n",
       "      <td>0.000000</td>\n",
       "      <td>0.338710</td>\n",
       "      <td>0.302733</td>\n",
       "      <td>0.183333</td>\n",
       "    </tr>\n",
       "    <tr>\n",
       "      <th>...</th>\n",
       "      <td>...</td>\n",
       "      <td>...</td>\n",
       "      <td>...</td>\n",
       "      <td>...</td>\n",
       "      <td>...</td>\n",
       "      <td>...</td>\n",
       "      <td>...</td>\n",
       "      <td>...</td>\n",
       "    </tr>\n",
       "    <tr>\n",
       "      <th>1395</th>\n",
       "      <td>0.176471</td>\n",
       "      <td>0.618090</td>\n",
       "      <td>0.819672</td>\n",
       "      <td>0.318182</td>\n",
       "      <td>0.322581</td>\n",
       "      <td>0.710918</td>\n",
       "      <td>0.342442</td>\n",
       "      <td>0.016667</td>\n",
       "    </tr>\n",
       "    <tr>\n",
       "      <th>1396</th>\n",
       "      <td>0.000000</td>\n",
       "      <td>0.502513</td>\n",
       "      <td>0.573770</td>\n",
       "      <td>0.236364</td>\n",
       "      <td>0.067204</td>\n",
       "      <td>0.382134</td>\n",
       "      <td>0.221605</td>\n",
       "      <td>0.000000</td>\n",
       "    </tr>\n",
       "    <tr>\n",
       "      <th>1397</th>\n",
       "      <td>0.058824</td>\n",
       "      <td>0.502513</td>\n",
       "      <td>0.540984</td>\n",
       "      <td>0.263636</td>\n",
       "      <td>0.263441</td>\n",
       "      <td>0.397022</td>\n",
       "      <td>0.156277</td>\n",
       "      <td>0.350000</td>\n",
       "    </tr>\n",
       "    <tr>\n",
       "      <th>1398</th>\n",
       "      <td>0.235294</td>\n",
       "      <td>0.477387</td>\n",
       "      <td>0.524590</td>\n",
       "      <td>0.000000</td>\n",
       "      <td>0.000000</td>\n",
       "      <td>0.397022</td>\n",
       "      <td>0.035440</td>\n",
       "      <td>0.166667</td>\n",
       "    </tr>\n",
       "    <tr>\n",
       "      <th>1399</th>\n",
       "      <td>0.529412</td>\n",
       "      <td>0.773869</td>\n",
       "      <td>0.639344</td>\n",
       "      <td>0.272727</td>\n",
       "      <td>0.134409</td>\n",
       "      <td>0.383375</td>\n",
       "      <td>0.036721</td>\n",
       "      <td>0.400000</td>\n",
       "    </tr>\n",
       "  </tbody>\n",
       "</table>\n",
       "<p>1400 rows × 8 columns</p>\n",
       "</div>"
      ],
      "text/plain": [
       "             0         1         2         3         4         5         6  \\\n",
       "0     0.352941  0.623116  0.590164  0.000000  0.000000  0.342432  0.123826   \n",
       "1     0.058824  0.597990  0.360656  0.427273  0.084677  0.440447  0.086251   \n",
       "2     0.470588  0.552764  0.622951  0.000000  0.000000  0.344913  0.067891   \n",
       "3     0.000000  0.643216  0.557377  0.172727  0.241935  0.378412  0.560632   \n",
       "4     0.000000  0.542714  0.557377  0.181818  0.000000  0.338710  0.302733   \n",
       "...        ...       ...       ...       ...       ...       ...       ...   \n",
       "1395  0.176471  0.618090  0.819672  0.318182  0.322581  0.710918  0.342442   \n",
       "1396  0.000000  0.502513  0.573770  0.236364  0.067204  0.382134  0.221605   \n",
       "1397  0.058824  0.502513  0.540984  0.263636  0.263441  0.397022  0.156277   \n",
       "1398  0.235294  0.477387  0.524590  0.000000  0.000000  0.397022  0.035440   \n",
       "1399  0.529412  0.773869  0.639344  0.272727  0.134409  0.383375  0.036721   \n",
       "\n",
       "             7  \n",
       "0     0.133333  \n",
       "1     0.066667  \n",
       "2     0.616667  \n",
       "3     0.066667  \n",
       "4     0.183333  \n",
       "...        ...  \n",
       "1395  0.016667  \n",
       "1396  0.000000  \n",
       "1397  0.350000  \n",
       "1398  0.166667  \n",
       "1399  0.400000  \n",
       "\n",
       "[1400 rows x 8 columns]"
      ]
     },
     "execution_count": 8,
     "metadata": {},
     "output_type": "execute_result"
    }
   ],
   "source": [
    "X_train_norm"
   ]
  },
  {
   "cell_type": "markdown",
   "metadata": {},
   "source": [
    "#### The dataset is ready to be use*d* in a training process. Let's try to create a neural network using the lib Keras.\n",
    "The warning messages can be ignored"
   ]
  },
  {
   "cell_type": "code",
   "execution_count": 9,
   "metadata": {
    "execution": {
     "iopub.execute_input": "2021-10-02T18:31:03.918128Z",
     "iopub.status.busy": "2021-10-02T18:31:03.917894Z",
     "iopub.status.idle": "2021-10-02T18:31:05.676702Z",
     "shell.execute_reply": "2021-10-02T18:31:05.675779Z",
     "shell.execute_reply.started": "2021-10-02T18:31:03.918102Z"
    }
   },
   "outputs": [],
   "source": [
    "from tensorflow.keras.models import Sequential\n",
    "from tensorflow.keras.layers import Dense\n",
    "\n",
    "neural_network = Sequential()\n",
    "neural_network.add(Dense(units=16,activation='relu', input_shape = X_train_norm.iloc[0].shape))\n",
    "neural_network.add(Dense(units=10,activation='relu'))\n",
    "neural_network.add(Dense(units=2,activation='softmax'))\n",
    "\n",
    "neural_network.compile(optimizer='adam', loss='binary_crossentropy',metrics=['accuracy'])"
   ]
  },
  {
   "cell_type": "markdown",
   "metadata": {},
   "source": [
    "This is how the network architecture should be like"
   ]
  },
  {
   "cell_type": "code",
   "execution_count": 10,
   "metadata": {
    "execution": {
     "iopub.execute_input": "2021-10-02T18:31:05.678065Z",
     "iopub.status.busy": "2021-10-02T18:31:05.677827Z",
     "iopub.status.idle": "2021-10-02T18:31:05.794260Z",
     "shell.execute_reply": "2021-10-02T18:31:05.793185Z",
     "shell.execute_reply.started": "2021-10-02T18:31:05.678040Z"
    }
   },
   "outputs": [
    {
     "name": "stdout",
     "output_type": "stream",
     "text": [
      "('You must install pydot (`pip install pydot`) and install graphviz (see instructions at https://graphviz.gitlab.io/download/) ', 'for plot_model/model_to_dot to work.')\n"
     ]
    }
   ],
   "source": [
    "from tensorflow.keras.utils import plot_model\n",
    "plot_model(neural_network, show_shapes=True, show_layer_names=True)"
   ]
  },
  {
   "cell_type": "markdown",
   "metadata": {},
   "source": [
    "The array y_train need to be encoded with the values that represents the diagnosis\n",
    "\n",
    "The index position representing the class will be set with 1.\n",
    "\n",
    "[1, 0] - Class 0: negative diagnostic\n",
    "\n",
    "[0, 1] - Class 1: positive diagnostic"
   ]
  },
  {
   "cell_type": "code",
   "execution_count": 11,
   "metadata": {
    "execution": {
     "iopub.execute_input": "2021-10-02T18:31:05.796156Z",
     "iopub.status.busy": "2021-10-02T18:31:05.795731Z",
     "iopub.status.idle": "2021-10-02T18:31:05.805558Z",
     "shell.execute_reply": "2021-10-02T18:31:05.804948Z",
     "shell.execute_reply.started": "2021-10-02T18:31:05.796121Z"
    }
   },
   "outputs": [
    {
     "data": {
      "text/plain": [
       "matrix([[0., 1.],\n",
       "        [1., 0.],\n",
       "        [1., 0.],\n",
       "        ...,\n",
       "        [1., 0.],\n",
       "        [0., 1.],\n",
       "        [1., 0.]])"
      ]
     },
     "execution_count": 11,
     "metadata": {},
     "output_type": "execute_result"
    }
   ],
   "source": [
    "from sklearn.preprocessing import OneHotEncoder\n",
    "encoder = OneHotEncoder()\n",
    "y_train_encoded = encoder.fit_transform(y_train.values.reshape(-1, 1)).todense()\n",
    "y_train_encoded"
   ]
  },
  {
   "cell_type": "markdown",
   "metadata": {},
   "source": [
    "Let's train the neural network"
   ]
  },
  {
   "cell_type": "code",
   "execution_count": 12,
   "metadata": {
    "execution": {
     "iopub.execute_input": "2021-10-02T18:31:05.807189Z",
     "iopub.status.busy": "2021-10-02T18:31:05.806623Z",
     "iopub.status.idle": "2021-10-02T18:31:18.965575Z",
     "shell.execute_reply": "2021-10-02T18:31:18.964639Z",
     "shell.execute_reply.started": "2021-10-02T18:31:05.807156Z"
    }
   },
   "outputs": [
    {
     "name": "stdout",
     "output_type": "stream",
     "text": [
      "Epoch 1/100\n",
      "140/140 [==============================] - 1s 1ms/step - loss: 0.6653 - accuracy: 0.6650\n",
      "Epoch 2/100\n",
      "140/140 [==============================] - 0s 1ms/step - loss: 0.6416 - accuracy: 0.6621\n",
      "Epoch 3/100\n",
      "140/140 [==============================] - 0s 1ms/step - loss: 0.6208 - accuracy: 0.6650\n",
      "Epoch 4/100\n",
      "140/140 [==============================] - 0s 1ms/step - loss: 0.5987 - accuracy: 0.6793\n",
      "Epoch 5/100\n",
      "140/140 [==============================] - 0s 1ms/step - loss: 0.5777 - accuracy: 0.6950\n",
      "Epoch 6/100\n",
      "140/140 [==============================] - 0s 1ms/step - loss: 0.5593 - accuracy: 0.7093\n",
      "Epoch 7/100\n",
      "140/140 [==============================] - 0s 1ms/step - loss: 0.5463 - accuracy: 0.7121\n",
      "Epoch 8/100\n",
      "140/140 [==============================] - 0s 1ms/step - loss: 0.5331 - accuracy: 0.7286\n",
      "Epoch 9/100\n",
      "140/140 [==============================] - 0s 1ms/step - loss: 0.5213 - accuracy: 0.7336\n",
      "Epoch 10/100\n",
      "140/140 [==============================] - 0s 1ms/step - loss: 0.5141 - accuracy: 0.7400\n",
      "Epoch 11/100\n",
      "140/140 [==============================] - 0s 1ms/step - loss: 0.5078 - accuracy: 0.7564\n",
      "Epoch 12/100\n",
      "140/140 [==============================] - 0s 1ms/step - loss: 0.4981 - accuracy: 0.7550\n",
      "Epoch 13/100\n",
      "140/140 [==============================] - 0s 1ms/step - loss: 0.4910 - accuracy: 0.7707\n",
      "Epoch 14/100\n",
      "140/140 [==============================] - 0s 1ms/step - loss: 0.4898 - accuracy: 0.7607\n",
      "Epoch 15/100\n",
      "140/140 [==============================] - 0s 1ms/step - loss: 0.4856 - accuracy: 0.7643\n",
      "Epoch 16/100\n",
      "140/140 [==============================] - 0s 1ms/step - loss: 0.4816 - accuracy: 0.7600\n",
      "Epoch 17/100\n",
      "140/140 [==============================] - 0s 1ms/step - loss: 0.4807 - accuracy: 0.7636\n",
      "Epoch 18/100\n",
      "140/140 [==============================] - 0s 1ms/step - loss: 0.4778 - accuracy: 0.7650\n",
      "Epoch 19/100\n",
      "140/140 [==============================] - 0s 1ms/step - loss: 0.4751 - accuracy: 0.7629\n",
      "Epoch 20/100\n",
      "140/140 [==============================] - 0s 1ms/step - loss: 0.4730 - accuracy: 0.7679\n",
      "Epoch 21/100\n",
      "140/140 [==============================] - 0s 1ms/step - loss: 0.4704 - accuracy: 0.7693\n",
      "Epoch 22/100\n",
      "140/140 [==============================] - 0s 1ms/step - loss: 0.4696 - accuracy: 0.7657\n",
      "Epoch 23/100\n",
      "140/140 [==============================] - 0s 1ms/step - loss: 0.4662 - accuracy: 0.7700\n",
      "Epoch 24/100\n",
      "140/140 [==============================] - 0s 1ms/step - loss: 0.4631 - accuracy: 0.7707\n",
      "Epoch 25/100\n",
      "140/140 [==============================] - 0s 1ms/step - loss: 0.4669 - accuracy: 0.7629\n",
      "Epoch 26/100\n",
      "140/140 [==============================] - 0s 1ms/step - loss: 0.4653 - accuracy: 0.7686\n",
      "Epoch 27/100\n",
      "140/140 [==============================] - 0s 1ms/step - loss: 0.4646 - accuracy: 0.7643\n",
      "Epoch 28/100\n",
      "140/140 [==============================] - 0s 1ms/step - loss: 0.4635 - accuracy: 0.7700\n",
      "Epoch 29/100\n",
      "140/140 [==============================] - 0s 1ms/step - loss: 0.4635 - accuracy: 0.7700\n",
      "Epoch 30/100\n",
      "140/140 [==============================] - 0s 1ms/step - loss: 0.4593 - accuracy: 0.7736\n",
      "Epoch 31/100\n",
      "140/140 [==============================] - 0s 1ms/step - loss: 0.4616 - accuracy: 0.7714\n",
      "Epoch 32/100\n",
      "140/140 [==============================] - 0s 1ms/step - loss: 0.4609 - accuracy: 0.7721\n",
      "Epoch 33/100\n",
      "140/140 [==============================] - 0s 1ms/step - loss: 0.4601 - accuracy: 0.7707\n",
      "Epoch 34/100\n",
      "140/140 [==============================] - 0s 1ms/step - loss: 0.4608 - accuracy: 0.7707\n",
      "Epoch 35/100\n",
      "140/140 [==============================] - 0s 1ms/step - loss: 0.4586 - accuracy: 0.7743\n",
      "Epoch 36/100\n",
      "140/140 [==============================] - 0s 1ms/step - loss: 0.4572 - accuracy: 0.7729\n",
      "Epoch 37/100\n",
      "140/140 [==============================] - 0s 1ms/step - loss: 0.4576 - accuracy: 0.7771\n",
      "Epoch 38/100\n",
      "140/140 [==============================] - 0s 1ms/step - loss: 0.4564 - accuracy: 0.7757\n",
      "Epoch 39/100\n",
      "140/140 [==============================] - 0s 1ms/step - loss: 0.4561 - accuracy: 0.7721\n",
      "Epoch 40/100\n",
      "140/140 [==============================] - 0s 1ms/step - loss: 0.4546 - accuracy: 0.7714\n",
      "Epoch 41/100\n",
      "140/140 [==============================] - 0s 1ms/step - loss: 0.4554 - accuracy: 0.7707\n",
      "Epoch 42/100\n",
      "140/140 [==============================] - 0s 1ms/step - loss: 0.4546 - accuracy: 0.7721\n",
      "Epoch 43/100\n",
      "140/140 [==============================] - 0s 1ms/step - loss: 0.4529 - accuracy: 0.7743\n",
      "Epoch 44/100\n",
      "140/140 [==============================] - 0s 1ms/step - loss: 0.4520 - accuracy: 0.7743\n",
      "Epoch 45/100\n",
      "140/140 [==============================] - 0s 1ms/step - loss: 0.4532 - accuracy: 0.7721\n",
      "Epoch 46/100\n",
      "140/140 [==============================] - 0s 1ms/step - loss: 0.4533 - accuracy: 0.7814\n",
      "Epoch 47/100\n",
      "140/140 [==============================] - 0s 1ms/step - loss: 0.4500 - accuracy: 0.7779\n",
      "Epoch 48/100\n",
      "140/140 [==============================] - 0s 1ms/step - loss: 0.4547 - accuracy: 0.7743\n",
      "Epoch 49/100\n",
      "140/140 [==============================] - 0s 1ms/step - loss: 0.4516 - accuracy: 0.7757\n",
      "Epoch 50/100\n",
      "140/140 [==============================] - 0s 1ms/step - loss: 0.4489 - accuracy: 0.7743\n",
      "Epoch 51/100\n",
      "140/140 [==============================] - 0s 1ms/step - loss: 0.4498 - accuracy: 0.7807\n",
      "Epoch 52/100\n",
      "140/140 [==============================] - 0s 1ms/step - loss: 0.4506 - accuracy: 0.7764\n",
      "Epoch 53/100\n",
      "140/140 [==============================] - 0s 1ms/step - loss: 0.4499 - accuracy: 0.7771\n",
      "Epoch 54/100\n",
      "140/140 [==============================] - 0s 1ms/step - loss: 0.4486 - accuracy: 0.7814\n",
      "Epoch 55/100\n",
      "140/140 [==============================] - 0s 1ms/step - loss: 0.4473 - accuracy: 0.7829\n",
      "Epoch 56/100\n",
      "140/140 [==============================] - 0s 1ms/step - loss: 0.4498 - accuracy: 0.7857\n",
      "Epoch 57/100\n",
      "140/140 [==============================] - 0s 1ms/step - loss: 0.4494 - accuracy: 0.7743\n",
      "Epoch 58/100\n",
      "140/140 [==============================] - 0s 2ms/step - loss: 0.4484 - accuracy: 0.7786\n",
      "Epoch 59/100\n",
      "140/140 [==============================] - 0s 2ms/step - loss: 0.4431 - accuracy: 0.7793\n",
      "Epoch 60/100\n",
      "140/140 [==============================] - 0s 1ms/step - loss: 0.4433 - accuracy: 0.7950\n",
      "Epoch 61/100\n",
      "140/140 [==============================] - 0s 1ms/step - loss: 0.4442 - accuracy: 0.7821\n",
      "Epoch 62/100\n",
      "140/140 [==============================] - 0s 1ms/step - loss: 0.4469 - accuracy: 0.7714\n",
      "Epoch 63/100\n",
      "140/140 [==============================] - 0s 1ms/step - loss: 0.4430 - accuracy: 0.7800\n",
      "Epoch 64/100\n",
      "140/140 [==============================] - 0s 1ms/step - loss: 0.4426 - accuracy: 0.7807\n",
      "Epoch 65/100\n",
      "140/140 [==============================] - 0s 1ms/step - loss: 0.4419 - accuracy: 0.7871\n",
      "Epoch 66/100\n",
      "140/140 [==============================] - 0s 1ms/step - loss: 0.4428 - accuracy: 0.7786\n",
      "Epoch 67/100\n",
      "140/140 [==============================] - 0s 1ms/step - loss: 0.4410 - accuracy: 0.7836\n",
      "Epoch 68/100\n",
      "140/140 [==============================] - 0s 2ms/step - loss: 0.4434 - accuracy: 0.7779\n",
      "Epoch 69/100\n",
      "140/140 [==============================] - 0s 1ms/step - loss: 0.4421 - accuracy: 0.7807\n",
      "Epoch 70/100\n",
      "140/140 [==============================] - 0s 1ms/step - loss: 0.4419 - accuracy: 0.7786\n",
      "Epoch 71/100\n",
      "140/140 [==============================] - 0s 1ms/step - loss: 0.4402 - accuracy: 0.7836\n",
      "Epoch 72/100\n",
      "140/140 [==============================] - 0s 1ms/step - loss: 0.4389 - accuracy: 0.7850\n",
      "Epoch 73/100\n",
      "140/140 [==============================] - 0s 1ms/step - loss: 0.4398 - accuracy: 0.7793\n",
      "Epoch 74/100\n",
      "140/140 [==============================] - 0s 1ms/step - loss: 0.4405 - accuracy: 0.7814\n",
      "Epoch 75/100\n",
      "140/140 [==============================] - 0s 1ms/step - loss: 0.4407 - accuracy: 0.7850\n",
      "Epoch 76/100\n",
      "140/140 [==============================] - 0s 1ms/step - loss: 0.4409 - accuracy: 0.7829\n",
      "Epoch 77/100\n",
      "140/140 [==============================] - 0s 1ms/step - loss: 0.4360 - accuracy: 0.7864\n",
      "Epoch 78/100\n",
      "140/140 [==============================] - 0s 1ms/step - loss: 0.4379 - accuracy: 0.7936\n",
      "Epoch 79/100\n",
      "140/140 [==============================] - 0s 1ms/step - loss: 0.4397 - accuracy: 0.7829\n",
      "Epoch 80/100\n",
      "140/140 [==============================] - 0s 1ms/step - loss: 0.4344 - accuracy: 0.7971\n",
      "Epoch 81/100\n"
     ]
    },
    {
     "name": "stdout",
     "output_type": "stream",
     "text": [
      "140/140 [==============================] - 0s 1ms/step - loss: 0.4356 - accuracy: 0.7779\n",
      "Epoch 82/100\n",
      "140/140 [==============================] - 0s 1ms/step - loss: 0.4354 - accuracy: 0.7821\n",
      "Epoch 83/100\n",
      "140/140 [==============================] - 0s 1ms/step - loss: 0.4364 - accuracy: 0.7821\n",
      "Epoch 84/100\n",
      "140/140 [==============================] - 0s 1ms/step - loss: 0.4335 - accuracy: 0.7864\n",
      "Epoch 85/100\n",
      "140/140 [==============================] - 0s 1ms/step - loss: 0.4338 - accuracy: 0.7857\n",
      "Epoch 86/100\n",
      "140/140 [==============================] - 0s 1ms/step - loss: 0.4350 - accuracy: 0.7879\n",
      "Epoch 87/100\n",
      "140/140 [==============================] - 0s 1ms/step - loss: 0.4320 - accuracy: 0.7857\n",
      "Epoch 88/100\n",
      "140/140 [==============================] - 0s 1ms/step - loss: 0.4322 - accuracy: 0.7871\n",
      "Epoch 89/100\n",
      "140/140 [==============================] - 0s 1ms/step - loss: 0.4334 - accuracy: 0.7900\n",
      "Epoch 90/100\n",
      "140/140 [==============================] - 0s 1ms/step - loss: 0.4314 - accuracy: 0.7900\n",
      "Epoch 91/100\n",
      "140/140 [==============================] - 0s 1ms/step - loss: 0.4313 - accuracy: 0.7871\n",
      "Epoch 92/100\n",
      "140/140 [==============================] - 0s 1ms/step - loss: 0.4303 - accuracy: 0.7914\n",
      "Epoch 93/100\n",
      "140/140 [==============================] - 0s 1ms/step - loss: 0.4321 - accuracy: 0.7879\n",
      "Epoch 94/100\n",
      "140/140 [==============================] - 0s 1ms/step - loss: 0.4330 - accuracy: 0.7907\n",
      "Epoch 95/100\n",
      "140/140 [==============================] - 0s 1ms/step - loss: 0.4317 - accuracy: 0.7871\n",
      "Epoch 96/100\n",
      "140/140 [==============================] - 0s 1ms/step - loss: 0.4282 - accuracy: 0.7879\n",
      "Epoch 97/100\n",
      "140/140 [==============================] - 0s 1ms/step - loss: 0.4304 - accuracy: 0.7821\n",
      "Epoch 98/100\n",
      "140/140 [==============================] - 0s 1ms/step - loss: 0.4274 - accuracy: 0.7914\n",
      "Epoch 99/100\n",
      "140/140 [==============================] - 0s 1ms/step - loss: 0.4283 - accuracy: 0.7900\n",
      "Epoch 100/100\n",
      "140/140 [==============================] - 0s 1ms/step - loss: 0.4298 - accuracy: 0.7886\n"
     ]
    },
    {
     "data": {
      "text/plain": [
       "<tensorflow.python.keras.callbacks.History at 0x14ed6b110>"
      ]
     },
     "execution_count": 12,
     "metadata": {},
     "output_type": "execute_result"
    }
   ],
   "source": [
    "neural_network.fit(X_train_norm, y_train_encoded, epochs=100, batch_size=10)"
   ]
  },
  {
   "cell_type": "markdown",
   "metadata": {},
   "source": [
    "Now, we can test the accurracy achieved using the test dataset"
   ]
  },
  {
   "cell_type": "code",
   "execution_count": 13,
   "metadata": {
    "execution": {
     "iopub.execute_input": "2021-10-02T18:31:18.970063Z",
     "iopub.status.busy": "2021-10-02T18:31:18.969747Z",
     "iopub.status.idle": "2021-10-02T18:31:19.097246Z",
     "shell.execute_reply": "2021-10-02T18:31:19.096172Z",
     "shell.execute_reply.started": "2021-10-02T18:31:18.970032Z"
    }
   },
   "outputs": [],
   "source": [
    "X_test_norm = pd.DataFrame(scaler.transform(X_test))\n",
    "predict = neural_network.predict(X_test_norm)"
   ]
  },
  {
   "cell_type": "code",
   "execution_count": 14,
   "metadata": {
    "execution": {
     "iopub.execute_input": "2021-10-02T18:31:19.098855Z",
     "iopub.status.busy": "2021-10-02T18:31:19.098575Z",
     "iopub.status.idle": "2021-10-02T18:31:19.106233Z",
     "shell.execute_reply": "2021-10-02T18:31:19.105243Z",
     "shell.execute_reply.started": "2021-10-02T18:31:19.098808Z"
    }
   },
   "outputs": [
    {
     "data": {
      "text/plain": [
       "array([[3.3870909e-01, 6.6129088e-01],\n",
       "       [9.9937373e-01, 6.2633603e-04],\n",
       "       [2.1825982e-02, 9.7817403e-01],\n",
       "       ...,\n",
       "       [7.2536439e-01, 2.7463558e-01],\n",
       "       [1.3363432e-02, 9.8663658e-01],\n",
       "       [9.3858087e-01, 6.1419114e-02]], dtype=float32)"
      ]
     },
     "execution_count": 14,
     "metadata": {},
     "output_type": "execute_result"
    }
   ],
   "source": [
    "predict"
   ]
  },
  {
   "cell_type": "markdown",
   "metadata": {},
   "source": [
    "y_pred will be contain the classes predict"
   ]
  },
  {
   "cell_type": "code",
   "execution_count": 15,
   "metadata": {
    "execution": {
     "iopub.execute_input": "2021-10-02T18:31:19.107828Z",
     "iopub.status.busy": "2021-10-02T18:31:19.107529Z",
     "iopub.status.idle": "2021-10-02T18:31:19.119006Z",
     "shell.execute_reply": "2021-10-02T18:31:19.117806Z",
     "shell.execute_reply.started": "2021-10-02T18:31:19.107800Z"
    }
   },
   "outputs": [],
   "source": [
    "y_pred = [np.argmax(x) for x in predict]"
   ]
  },
  {
   "cell_type": "code",
   "execution_count": 16,
   "metadata": {
    "execution": {
     "iopub.execute_input": "2021-10-02T18:31:19.120601Z",
     "iopub.status.busy": "2021-10-02T18:31:19.120370Z",
     "iopub.status.idle": "2021-10-02T18:31:19.129901Z",
     "shell.execute_reply": "2021-10-02T18:31:19.129157Z",
     "shell.execute_reply.started": "2021-10-02T18:31:19.120575Z"
    }
   },
   "outputs": [
    {
     "data": {
      "text/plain": [
       "[1, 0, 1, 1, 1]"
      ]
     },
     "execution_count": 16,
     "metadata": {},
     "output_type": "execute_result"
    }
   ],
   "source": [
    "y_pred[:5]"
   ]
  },
  {
   "cell_type": "markdown",
   "metadata": {},
   "source": [
    "Measuring the accuracy score"
   ]
  },
  {
   "cell_type": "code",
   "execution_count": 17,
   "metadata": {
    "execution": {
     "iopub.execute_input": "2021-10-02T18:31:19.132014Z",
     "iopub.status.busy": "2021-10-02T18:31:19.131137Z",
     "iopub.status.idle": "2021-10-02T18:31:19.145917Z",
     "shell.execute_reply": "2021-10-02T18:31:19.144884Z",
     "shell.execute_reply.started": "2021-10-02T18:31:19.131976Z"
    }
   },
   "outputs": [
    {
     "data": {
      "text/plain": [
       "0.7916666666666666"
      ]
     },
     "execution_count": 17,
     "metadata": {},
     "output_type": "execute_result"
    }
   ],
   "source": [
    "from sklearn.metrics import accuracy_score\n",
    "accuracy_score(y_test, y_pred)"
   ]
  },
  {
   "cell_type": "markdown",
   "metadata": {},
   "source": [
    "#### This means that the neural network classifies the cases with 79% of accuracy 😃"
   ]
  },
  {
   "cell_type": "code",
   "execution_count": null,
   "metadata": {},
   "outputs": [],
   "source": []
  }
 ],
 "metadata": {
  "kernelspec": {
   "display_name": "venv",
   "language": "python",
   "name": "venv"
  },
  "language_info": {
   "codemirror_mode": {
    "name": "ipython",
    "version": 3
   },
   "file_extension": ".py",
   "mimetype": "text/x-python",
   "name": "python",
   "nbconvert_exporter": "python",
   "pygments_lexer": "ipython3",
   "version": "3.7.5"
  }
 },
 "nbformat": 4,
 "nbformat_minor": 4
}
